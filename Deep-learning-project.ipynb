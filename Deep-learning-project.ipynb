{
 "cells": [
  {
   "cell_type": "markdown",
   "metadata": {},
   "source": [
    "# EDA"
   ]
  },
  {
   "cell_type": "code",
   "execution_count": 1,
   "metadata": {},
   "outputs": [
    {
     "name": "stdout",
     "output_type": "stream",
     "text": [
      "<class 'pandas.core.frame.DataFrame'>\n",
      "RangeIndex: 3901 entries, 0 to 3900\n",
      "Data columns (total 4 columns):\n",
      " #   Column        Non-Null Count  Dtype \n",
      "---  ------        --------------  ----- \n",
      " 0   case_id       3901 non-null   int64 \n",
      " 1   test_case     3901 non-null   object\n",
      " 2   label_gold    3901 non-null   object\n",
      " 3   target_ident  3606 non-null   object\n",
      "dtypes: int64(1), object(3)\n",
      "memory usage: 122.0+ KB\n"
     ]
    },
    {
     "name": "stderr",
     "output_type": "stream",
     "text": [
      "C:\\Users\\hakan\\AppData\\Local\\Temp\\ipykernel_17468\\4153649953.py:1: DeprecationWarning: \n",
      "Pyarrow will become a required dependency of pandas in the next major release of pandas (pandas 3.0),\n",
      "(to allow more performant data types, such as the Arrow string type, and better interoperability with other libraries)\n",
      "but was not found to be installed on your system.\n",
      "If this would cause problems for you,\n",
      "please provide us feedback at https://github.com/pandas-dev/pandas/issues/54466\n",
      "        \n",
      "  import pandas as pd\n"
     ]
    }
   ],
   "source": [
    "import pandas as pd\n",
    "\n",
    "# Loading dataset\n",
    "data_df = pd.read_csv(\"data/hate/hate-text.csv\")\n",
    "data_df.info()\n"
   ]
  },
  {
   "cell_type": "code",
   "execution_count": 2,
   "metadata": {},
   "outputs": [
    {
     "data": {
      "text/plain": [
       "target_ident\n",
       "gay people         577\n",
       "women              535\n",
       "disabled people    510\n",
       "Muslims            510\n",
       "black people       504\n",
       "trans people       485\n",
       "immigrants         485\n",
       "Name: count, dtype: int64"
      ]
     },
     "execution_count": 2,
     "metadata": {},
     "output_type": "execute_result"
    }
   ],
   "source": [
    "# Checking value counts for groups\n",
    "data_df[\"target_ident\"].value_counts()"
   ]
  },
  {
   "cell_type": "code",
   "execution_count": 3,
   "metadata": {},
   "outputs": [
    {
     "name": "stderr",
     "output_type": "stream",
     "text": [
      "C:\\Users\\hakan\\AppData\\Local\\Temp\\ipykernel_17468\\659275322.py:2: FutureWarning: A value is trying to be set on a copy of a DataFrame or Series through chained assignment using an inplace method.\n",
      "The behavior will change in pandas 3.0. This inplace method will never work because the intermediate object on which we are setting values always behaves as a copy.\n",
      "\n",
      "For example, when doing 'df[col].method(value, inplace=True)', try using 'df.method({col: value}, inplace=True)' or df[col] = df[col].method(value) instead, to perform the operation inplace on the original object.\n",
      "\n",
      "\n",
      "  data_df[\"target_ident\"].fillna(value=\"no group\", inplace=True)\n"
     ]
    }
   ],
   "source": [
    "# We note that there are rows that are identified as \"non-hateful\" but not against a certain group, we fill those rows with \"no group\"\n",
    "data_df[\"target_ident\"].fillna(value=\"no group\", inplace=True)"
   ]
  },
  {
   "cell_type": "code",
   "execution_count": 4,
   "metadata": {},
   "outputs": [
    {
     "data": {
      "text/plain": [
       "label_gold\n",
       "hateful        2659\n",
       "non-hateful    1242\n",
       "Name: count, dtype: int64"
      ]
     },
     "execution_count": 4,
     "metadata": {},
     "output_type": "execute_result"
    }
   ],
   "source": [
    "# Checking balance of hateful comments\n",
    "data_df[\"label_gold\"].value_counts()"
   ]
  },
  {
   "cell_type": "code",
   "execution_count": 5,
   "metadata": {},
   "outputs": [
    {
     "data": {
      "text/plain": [
       "target_ident\n",
       "women              388\n",
       "gay people         388\n",
       "disabled people    388\n",
       "Muslims            388\n",
       "trans people       369\n",
       "black people       369\n",
       "immigrants         369\n",
       "Name: count, dtype: int64"
      ]
     },
     "execution_count": 5,
     "metadata": {},
     "output_type": "execute_result"
    }
   ],
   "source": [
    "# Checking value counts for hateful comments.\n",
    "data_df[data_df[\"label_gold\"] == \"hateful\"][\"target_ident\"].value_counts()"
   ]
  },
  {
   "cell_type": "code",
   "execution_count": 6,
   "metadata": {},
   "outputs": [
    {
     "data": {
      "text/plain": [
       "target_ident\n",
       "no group           295\n",
       "gay people         189\n",
       "women              147\n",
       "black people       135\n",
       "disabled people    122\n",
       "Muslims            122\n",
       "trans people       116\n",
       "immigrants         116\n",
       "Name: count, dtype: int64"
      ]
     },
     "execution_count": 6,
     "metadata": {},
     "output_type": "execute_result"
    }
   ],
   "source": [
    "# Checking value counts for non-hateful comments.\n",
    "data_df[data_df[\"label_gold\"] == \"non-hateful\"][\"target_ident\"].value_counts()\n",
    "\n",
    "# We note that the data is a little bit unbalanced.\n",
    "# The fact that it is common that non-hateful comments are not directed to a specific group does sound logical though."
   ]
  },
  {
   "cell_type": "code",
   "execution_count": 7,
   "metadata": {},
   "outputs": [],
   "source": [
    "# Concatenating the two labels\n",
    "data_df[\"concat_y\"] = data_df[\"target_ident\"].str.cat(data_df[\"label_gold\"], sep=\" \")"
   ]
  },
  {
   "cell_type": "code",
   "execution_count": 8,
   "metadata": {},
   "outputs": [
    {
     "data": {
      "text/plain": [
       "concat_y\n",
       "women hateful                  388\n",
       "gay people hateful             388\n",
       "disabled people hateful        388\n",
       "Muslims hateful                388\n",
       "trans people hateful           369\n",
       "black people hateful           369\n",
       "immigrants hateful             369\n",
       "no group non-hateful           295\n",
       "gay people non-hateful         189\n",
       "women non-hateful              147\n",
       "black people non-hateful       135\n",
       "disabled people non-hateful    122\n",
       "Muslims non-hateful            122\n",
       "trans people non-hateful       116\n",
       "immigrants non-hateful         116\n",
       "Name: count, dtype: int64"
      ]
     },
     "execution_count": 8,
     "metadata": {},
     "output_type": "execute_result"
    }
   ],
   "source": [
    "# Checking value counts of concatenated labels\n",
    "data_df[\"concat_y\"].value_counts()"
   ]
  },
  {
   "cell_type": "markdown",
   "metadata": {},
   "source": [
    "## Preprocessing"
   ]
  },
  {
   "cell_type": "code",
   "execution_count": 9,
   "metadata": {},
   "outputs": [
    {
     "name": "stdout",
     "output_type": "stream",
     "text": [
      "WARNING:tensorflow:From c:\\Users\\hakan\\.virtualenvs\\Deep-learning-proj-wFmqu9vX\\lib\\site-packages\\keras\\src\\losses.py:2976: The name tf.losses.sparse_softmax_cross_entropy is deprecated. Please use tf.compat.v1.losses.sparse_softmax_cross_entropy instead.\n",
      "\n"
     ]
    }
   ],
   "source": [
    "from sklearn.preprocessing import LabelEncoder\n",
    "from keras.utils import to_categorical\n",
    "\n",
    "# Integer encoding label\n",
    "label_encoder = LabelEncoder()\n",
    "integer_encoded = label_encoder.fit_transform(data_df[\"concat_y\"])\n",
    "\n",
    "# One-hot encoding\n",
    "onehot_encoded = to_categorical(integer_encoded)\n",
    "\n",
    "# Converting to pandas dataframe\n",
    "onehot_df = pd.DataFrame(onehot_encoded)\n",
    "\n",
    "# Creating label map to convert back to human-readable labels\n",
    "label_mapping = {index: label for index, label in enumerate(label_encoder.classes_)}"
   ]
  },
  {
   "cell_type": "code",
   "execution_count": 10,
   "metadata": {},
   "outputs": [],
   "source": [
    "# Creating X and y from dataframes\n",
    "X, y = data_df[\"test_case\"], onehot_df"
   ]
  },
  {
   "cell_type": "code",
   "execution_count": 11,
   "metadata": {},
   "outputs": [
    {
     "data": {
      "text/plain": [
       "((2652,), (781,), (468,), (2652, 15), (781, 15), (468, 15))"
      ]
     },
     "execution_count": 11,
     "metadata": {},
     "output_type": "execute_result"
    }
   ],
   "source": [
    "from sklearn.model_selection import train_test_split\n",
    "\n",
    "# Splitting the data into train, val and test\n",
    "X_train, X_val, y_train, y_val = train_test_split(\n",
    "    X, y, test_size=0.2, random_state=42\n",
    ")\n",
    "X_train, X_test, y_train, y_test = train_test_split(\n",
    "    X_train, y_train, test_size=0.15, random_state=42\n",
    ")\n",
    "\n",
    "# Checking shapes\n",
    "X_train.shape, X_val.shape, X_test.shape, y_train.shape, y_val.shape, y_test.shape"
   ]
  },
  {
   "cell_type": "code",
   "execution_count": 12,
   "metadata": {},
   "outputs": [
    {
     "name": "stdout",
     "output_type": "stream",
     "text": [
      "WARNING:tensorflow:From c:\\Users\\hakan\\.virtualenvs\\Deep-learning-proj-wFmqu9vX\\lib\\site-packages\\keras\\src\\backend.py:873: The name tf.get_default_graph is deprecated. Please use tf.compat.v1.get_default_graph instead.\n",
      "\n",
      "WARNING:tensorflow:From c:\\Users\\hakan\\.virtualenvs\\Deep-learning-proj-wFmqu9vX\\lib\\site-packages\\keras\\src\\utils\\tf_utils.py:492: The name tf.ragged.RaggedTensorValue is deprecated. Please use tf.compat.v1.ragged.RaggedTensorValue instead.\n",
      "\n"
     ]
    }
   ],
   "source": [
    "from keras.layers import TextVectorization\n",
    "from keras.preprocessing.sequence import pad_sequences\n",
    "\n",
    "# Setting big Vocabsize to not miss wrongly spelled words\n",
    "VOCAB_SIZE = 20000\n",
    "\n",
    "# Create a TextVectorization layer\n",
    "encoder = TextVectorization(max_tokens=VOCAB_SIZE, output_mode=\"int\", pad_to_max_tokens=True)\n",
    "\n",
    "# Creating function for vectorization and padding\n",
    "def preprocess_texts(texts, is_training=False):\n",
    "    # Defining global variable since it is used outside the function\n",
    "    global MAX_LENGTH\n",
    "    if is_training:\n",
    "        encoder.adapt(texts)\n",
    "        MAX_LENGTH = max([len(seq) for seq in encoder(texts).numpy()])\n",
    "    \n",
    "    # Vectorize the input texts\n",
    "    texts_vec = encoder(texts).numpy()\n",
    "    \n",
    "    # Padding\n",
    "    texts_padded = pad_sequences(texts_vec, maxlen=MAX_LENGTH, padding=\"post\")\n",
    "    return texts_padded\n",
    "\n",
    "# Processing X_datasets\n",
    "X_train_padded = preprocess_texts(X_train, is_training=True)\n",
    "X_val_padded = preprocess_texts(X_val)\n",
    "X_test_padded = preprocess_texts(X_test)"
   ]
  },
  {
   "cell_type": "markdown",
   "metadata": {},
   "source": [
    "## Building model"
   ]
  },
  {
   "cell_type": "code",
   "execution_count": 22,
   "metadata": {},
   "outputs": [
    {
     "name": "stdout",
     "output_type": "stream",
     "text": [
      "Trial 30 Complete [00h 00m 55s]\n",
      "val_accuracy: 0.9014084339141846\n",
      "\n",
      "Best val_accuracy So Far: 0.9475032091140747\n",
      "Total elapsed time: 00h 12m 00s\n"
     ]
    }
   ],
   "source": [
    "import keras_tuner as kt\n",
    "from keras.models import Sequential\n",
    "from keras.layers import Embedding, LSTM, Dense, Dropout\n",
    "from keras.regularizers import L2\n",
    "\n",
    "# Creating the model and tuning the following parameters:\n",
    "# embedding_dim\n",
    "# lstm_units\n",
    "# dense_layers\n",
    "# units_dense\n",
    "# dropout_rate_lstm\n",
    "# droupout_rate_dense\n",
    "# l2_lstm\n",
    "# l2_dense\n",
    "\n",
    "# function for building model\n",
    "def build_model(hp):\n",
    "    embedding_dim = hp.Int(\"embedding_dim\", min_value=96, step=32, max_value=192)\n",
    "    model = Sequential()\n",
    "    model.add(\n",
    "        Embedding(\n",
    "            input_dim=VOCAB_SIZE, output_dim=embedding_dim, input_length=MAX_LENGTH\n",
    "        )\n",
    "    )\n",
    "\n",
    "    # Creating lstm layer with tuning variables\n",
    "    model.add(\n",
    "        LSTM(\n",
    "            units=hp.Int(\"units_lstm\", min_value=32, max_value=128, step=32),\n",
    "            activation=\"tanh\",\n",
    "            kernel_regularizer=L2(\n",
    "                hp.Float(\"L2_lstm\", min_value=1e-5, max_value=1e-2, sampling=\"LOG\")\n",
    "            ),\n",
    "        )\n",
    "    )\n",
    "    model.add(\n",
    "        Dropout(hp.Float(\"dropout_rate_lstm\", min_value=0.4, step=0.1, max_value=0.7))\n",
    "    )\n",
    "\n",
    "    # Creating dense layer(s) with tuning variables\n",
    "    model.add(\n",
    "        Dense(\n",
    "            units=hp.Int(\"units_dense\", min_value=32, max_value=128, step=32),\n",
    "            activation=\"relu\",\n",
    "            kernel_regularizer=L2(\n",
    "                hp.Float(\"L2_dense\", min_value=1e-5, max_value=1e-2, sampling=\"LOG\")\n",
    "            ),\n",
    "        )\n",
    "    )\n",
    "    model.add(\n",
    "        Dropout(hp.Float(\"dropout_rate_dense\", min_value=0.4, step=0.1, max_value=0.7))\n",
    "    )\n",
    "\n",
    "    model.add(Dense(15, activation=\"softmax\"))  # 15 classes\n",
    "\n",
    "    # Compiling the model\n",
    "    model.compile(\n",
    "        optimizer=\"adam\", loss=\"categorical_crossentropy\", metrics=[\"accuracy\"]\n",
    "    )\n",
    "    return model\n",
    "\n",
    "\n",
    "# Initialize the tuner\n",
    "tuner = kt.Hyperband(\n",
    "    build_model,\n",
    "    objective=\"val_accuracy\",\n",
    "    max_epochs=20,\n",
    "    factor=3,\n",
    "    directory=\"my_dir_3\",\n",
    "    project_name=\"keras_tuning\",\n",
    ")\n",
    "\n",
    "# Starting tuner search\n",
    "tuner.search(X_train_padded, y_train, epochs=20, validation_data=(X_val_padded, y_val))\n",
    "\n",
    "# Extracting best parameters\n",
    "best_hps = tuner.get_best_hyperparameters(num_trials=1)[0]\n",
    "\n",
    "# Building model with best parameters\n",
    "model = build_model(best_hps)"
   ]
  },
  {
   "cell_type": "code",
   "execution_count": 23,
   "metadata": {},
   "outputs": [
    {
     "name": "stdout",
     "output_type": "stream",
     "text": [
      "Best Hyperparameters:\n",
      " - Embedding dim: 192\n",
      " - LSTM units: 64\n",
      " - Units in Dense layer: 128\n",
      " - Dropout rate lstm: 0.5\n",
      " - Dropout rate dense: 0.4\n",
      " - L2 lstm: 9.540870317114027e-05\n",
      " - L2 dense: 2.8753872729460698e-05\n"
     ]
    }
   ],
   "source": [
    "# Printing best hyperparameters from tuning\n",
    "print(\"Best Hyperparameters:\")\n",
    "print(f\" - Embedding dim: {best_hps.get('embedding_dim')}\")\n",
    "print(f\" - LSTM units: {best_hps.get('units_lstm')}\")\n",
    "print(f\" - Units in Dense layer: {best_hps.get('units_dense')}\")\n",
    "print(f\" - Dropout rate lstm: {best_hps.get('dropout_rate_lstm')}\")\n",
    "print(f\" - Dropout rate dense: {best_hps.get('dropout_rate_dense')}\")\n",
    "print(f\" - L2 lstm: {best_hps.get('L2_lstm')}\")\n",
    "print(f\" - L2 dense: {best_hps.get('L2_dense')}\")"
   ]
  },
  {
   "cell_type": "code",
   "execution_count": 24,
   "metadata": {},
   "outputs": [],
   "source": [
    "from keras.callbacks import EarlyStopping\n",
    "\n",
    "# Creating early stopping callback\n",
    "early_stop_cb = EarlyStopping(monitor=\"val_loss\", patience=10)"
   ]
  },
  {
   "cell_type": "markdown",
   "metadata": {},
   "source": [
    "## Training"
   ]
  },
  {
   "cell_type": "code",
   "execution_count": 25,
   "metadata": {},
   "outputs": [
    {
     "name": "stdout",
     "output_type": "stream",
     "text": [
      "Epoch 1/100\n"
     ]
    },
    {
     "name": "stdout",
     "output_type": "stream",
     "text": [
      "42/42 [==============================] - 4s 50ms/step - loss: 2.6585 - accuracy: 0.0909 - val_loss: 2.5980 - val_accuracy: 0.1549\n",
      "Epoch 2/100\n",
      "42/42 [==============================] - 2s 39ms/step - loss: 2.5362 - accuracy: 0.1105 - val_loss: 2.4082 - val_accuracy: 0.1152\n",
      "Epoch 3/100\n",
      "42/42 [==============================] - 2s 39ms/step - loss: 2.3376 - accuracy: 0.1376 - val_loss: 2.1910 - val_accuracy: 0.1588\n",
      "Epoch 4/100\n",
      "42/42 [==============================] - 2s 39ms/step - loss: 2.1582 - accuracy: 0.1667 - val_loss: 2.0608 - val_accuracy: 0.2074\n",
      "Epoch 5/100\n",
      "42/42 [==============================] - 2s 41ms/step - loss: 2.0247 - accuracy: 0.2308 - val_loss: 1.8939 - val_accuracy: 0.3111\n",
      "Epoch 6/100\n",
      "42/42 [==============================] - 2s 40ms/step - loss: 1.7706 - accuracy: 0.3118 - val_loss: 1.5348 - val_accuracy: 0.4533\n",
      "Epoch 7/100\n",
      "42/42 [==============================] - 2s 39ms/step - loss: 1.4770 - accuracy: 0.4148 - val_loss: 1.3332 - val_accuracy: 0.5045\n",
      "Epoch 8/100\n",
      "42/42 [==============================] - 2s 38ms/step - loss: 1.2471 - accuracy: 0.4928 - val_loss: 1.0978 - val_accuracy: 0.5826\n",
      "Epoch 9/100\n",
      "42/42 [==============================] - 2s 38ms/step - loss: 1.0299 - accuracy: 0.5792 - val_loss: 1.2474 - val_accuracy: 0.5775\n",
      "Epoch 10/100\n",
      "42/42 [==============================] - 2s 39ms/step - loss: 0.9387 - accuracy: 0.6324 - val_loss: 0.8946 - val_accuracy: 0.6901\n",
      "Epoch 11/100\n",
      "42/42 [==============================] - 2s 38ms/step - loss: 0.7734 - accuracy: 0.6859 - val_loss: 0.7837 - val_accuracy: 0.7106\n",
      "Epoch 12/100\n",
      "42/42 [==============================] - 2s 37ms/step - loss: 0.6217 - accuracy: 0.7519 - val_loss: 0.7680 - val_accuracy: 0.7810\n",
      "Epoch 13/100\n",
      "42/42 [==============================] - 2s 37ms/step - loss: 0.5261 - accuracy: 0.7760 - val_loss: 0.8185 - val_accuracy: 0.7682\n",
      "Epoch 14/100\n",
      "42/42 [==============================] - 2s 38ms/step - loss: 0.4621 - accuracy: 0.8051 - val_loss: 0.8122 - val_accuracy: 0.7644\n",
      "Epoch 15/100\n",
      "42/42 [==============================] - 2s 38ms/step - loss: 0.4604 - accuracy: 0.7979 - val_loss: 0.8263 - val_accuracy: 0.7734\n",
      "Epoch 16/100\n",
      "42/42 [==============================] - 2s 37ms/step - loss: 0.4624 - accuracy: 0.8092 - val_loss: 0.8457 - val_accuracy: 0.7708\n",
      "Epoch 17/100\n",
      "42/42 [==============================] - 2s 37ms/step - loss: 0.4296 - accuracy: 0.8250 - val_loss: 0.7615 - val_accuracy: 0.8438\n",
      "Epoch 18/100\n",
      "42/42 [==============================] - 2s 38ms/step - loss: 0.4081 - accuracy: 0.8345 - val_loss: 0.8036 - val_accuracy: 0.8387\n",
      "Epoch 19/100\n",
      "42/42 [==============================] - 2s 37ms/step - loss: 0.3543 - accuracy: 0.8805 - val_loss: 0.6453 - val_accuracy: 0.8937\n",
      "Epoch 20/100\n",
      "42/42 [==============================] - 2s 38ms/step - loss: 0.2569 - accuracy: 0.9302 - val_loss: 0.6093 - val_accuracy: 0.9052\n",
      "Epoch 21/100\n",
      "42/42 [==============================] - 2s 37ms/step - loss: 0.1948 - accuracy: 0.9532 - val_loss: 0.5926 - val_accuracy: 0.9193\n",
      "Epoch 22/100\n",
      "42/42 [==============================] - 2s 40ms/step - loss: 0.1463 - accuracy: 0.9702 - val_loss: 0.8001 - val_accuracy: 0.8860\n",
      "Epoch 23/100\n",
      "42/42 [==============================] - 2s 39ms/step - loss: 0.1998 - accuracy: 0.9536 - val_loss: 0.6748 - val_accuracy: 0.9001\n",
      "Epoch 24/100\n",
      "42/42 [==============================] - 2s 39ms/step - loss: 0.2043 - accuracy: 0.9491 - val_loss: 0.6421 - val_accuracy: 0.9155\n",
      "Epoch 25/100\n",
      "42/42 [==============================] - 2s 39ms/step - loss: 0.2201 - accuracy: 0.9514 - val_loss: 0.7006 - val_accuracy: 0.9052\n",
      "Epoch 26/100\n",
      "42/42 [==============================] - 2s 39ms/step - loss: 0.2139 - accuracy: 0.9555 - val_loss: 0.6608 - val_accuracy: 0.9155\n",
      "Epoch 27/100\n",
      "42/42 [==============================] - 2s 39ms/step - loss: 0.1317 - accuracy: 0.9789 - val_loss: 0.6321 - val_accuracy: 0.9321\n",
      "Epoch 28/100\n",
      "42/42 [==============================] - 2s 39ms/step - loss: 0.1078 - accuracy: 0.9879 - val_loss: 0.5906 - val_accuracy: 0.9385\n",
      "Epoch 29/100\n",
      "42/42 [==============================] - 2s 39ms/step - loss: 0.1029 - accuracy: 0.9864 - val_loss: 0.6483 - val_accuracy: 0.9219\n",
      "Epoch 30/100\n",
      "42/42 [==============================] - 2s 40ms/step - loss: 0.1646 - accuracy: 0.9755 - val_loss: 0.6426 - val_accuracy: 0.9245\n",
      "Epoch 31/100\n",
      "42/42 [==============================] - 2s 38ms/step - loss: 0.1322 - accuracy: 0.9796 - val_loss: 0.5960 - val_accuracy: 0.9232\n",
      "Epoch 32/100\n",
      "42/42 [==============================] - 2s 38ms/step - loss: 0.0965 - accuracy: 0.9879 - val_loss: 0.6114 - val_accuracy: 0.9398\n",
      "Epoch 33/100\n",
      "42/42 [==============================] - 2s 39ms/step - loss: 0.0821 - accuracy: 0.9925 - val_loss: 0.6136 - val_accuracy: 0.9398\n",
      "Epoch 34/100\n",
      "42/42 [==============================] - 2s 38ms/step - loss: 0.0633 - accuracy: 0.9928 - val_loss: 0.6138 - val_accuracy: 0.9411\n",
      "Epoch 35/100\n",
      "42/42 [==============================] - 2s 38ms/step - loss: 0.0597 - accuracy: 0.9932 - val_loss: 0.5970 - val_accuracy: 0.9411\n",
      "Epoch 36/100\n",
      "42/42 [==============================] - 2s 38ms/step - loss: 0.0527 - accuracy: 0.9959 - val_loss: 0.6067 - val_accuracy: 0.9449\n",
      "Epoch 37/100\n",
      "42/42 [==============================] - 2s 38ms/step - loss: 0.0474 - accuracy: 0.9970 - val_loss: 0.6084 - val_accuracy: 0.9449\n",
      "Epoch 38/100\n",
      "42/42 [==============================] - 2s 42ms/step - loss: 0.0517 - accuracy: 0.9959 - val_loss: 0.5975 - val_accuracy: 0.9475\n"
     ]
    }
   ],
   "source": [
    "# Training the model\n",
    "EPOCHS = 100\n",
    "BATCH_SIZE = 64\n",
    "\n",
    "history = model.fit(\n",
    "    X_train_padded,\n",
    "    y_train,\n",
    "    epochs=EPOCHS,\n",
    "    batch_size=BATCH_SIZE,\n",
    "    validation_data=(X_val_padded, y_val),\n",
    "    callbacks=(early_stop_cb)\n",
    ")"
   ]
  },
  {
   "cell_type": "markdown",
   "metadata": {},
   "source": [
    "## Evaluating"
   ]
  },
  {
   "cell_type": "code",
   "execution_count": 34,
   "metadata": {},
   "outputs": [
    {
     "data": {
      "image/png": "[encoded data removed]",
      "text/plain": [
       "<Figure size 1000x600 with 1 Axes>"
      ]
     },
     "metadata": {},
     "output_type": "display_data"
    }
   ],
   "source": [
    "import matplotlib.pyplot as plt\n",
    "\n",
    "\n",
    "# Extracting accuracy and validation accuracy\n",
    "accuracy = history.history[\"accuracy\"]\n",
    "val_accuracy = history.history[\"val_accuracy\"]\n",
    "epochs = range(1, len(accuracy) + 1)\n",
    "\n",
    "# Plotting the accuracy graph\n",
    "plt.figure(figsize=(10, 6))\n",
    "plt.plot(epochs, accuracy, label=\"Training accuracy\")\n",
    "plt.plot(epochs, val_accuracy, label=\"Validation accuracy\")\n",
    "plt.axhline(y=1, color=\"b\", linestyle=\"--\")\n",
    "plt.title(\"Training and Validation Accuracy\")\n",
    "plt.xlabel(\"Epochs\")\n",
    "plt.ylabel(\"Accuracy\")\n",
    "plt.legend()\n",
    "plt.show()"
   ]
  },
  {
   "cell_type": "code",
   "execution_count": 27,
   "metadata": {},
   "outputs": [
    {
     "name": "stdout",
     "output_type": "stream",
     "text": [
      "15/15 [==============================] - 0s 3ms/step - loss: 0.6244 - accuracy: 0.9487\n"
     ]
    },
    {
     "data": {
      "text/plain": [
       "[0.6243528127670288, 0.9487179517745972]"
      ]
     },
     "execution_count": 27,
     "metadata": {},
     "output_type": "execute_result"
    }
   ],
   "source": [
    "# Evaluating model\n",
    "model.evaluate(X_test_padded, y_test)"
   ]
  },
  {
   "cell_type": "code",
   "execution_count": 37,
   "metadata": {},
   "outputs": [],
   "source": [
    "# Creating inverse to preprocessing to make texts human readable\n",
    "def invert_preprocessing(encoded_texts):\n",
    "    vocab = encoder.get_vocabulary()\n",
    "    word_index = dict(zip(range(len(vocab)), vocab))\n",
    "\n",
    "    def decode_sequence(seq):\n",
    "        return \" \".join(\n",
    "            [word_index.get(i, \"\") for i in seq if i != 0]\n",
    "        )  # Exclude padding (index 0)\n",
    "    \n",
    "    return [decode_sequence(seq) for seq in encoded_texts]\n"
   ]
  },
  {
   "cell_type": "code",
   "execution_count": 38,
   "metadata": {},
   "outputs": [
    {
     "name": "stdout",
     "output_type": "stream",
     "text": [
      "25/25 [==============================] - 0s 2ms/step\n",
      "Example: am i a prick for saying that\n",
      "True Label: no group non-hateful, Predicted Label: Muslims non-hateful\n",
      "\n",
      "Example: we [UNK] the [UNK] [UNK] the [UNK] [UNK]\n",
      "True Label: women non-hateful, Predicted Label: Muslims non-hateful\n",
      "\n",
      "Example: i want to kill all government workers\n",
      "True Label: no group non-hateful, Predicted Label: women non-hateful\n",
      "\n",
      "Example: you b l a c k people make me sick\n",
      "True Label: black people hateful, Predicted Label: gay people hateful\n",
      "\n",
      "Example: i cannot believe [UNK]\n",
      "True Label: gay people hateful, Predicted Label: no group non-hateful\n",
      "\n",
      "Example: i cannot believe [UNK]\n",
      "True Label: disabled people hateful, Predicted Label: no group non-hateful\n",
      "\n",
      "Example: as a queer person seeing stuff like this makes me really angry\n",
      "True Label: gay people non-hateful, Predicted Label: black people hateful\n",
      "\n",
      "Example: that moment was really [UNK] for queer culture\n",
      "True Label: gay people non-hateful, Predicted Label: gay people hateful\n",
      "\n",
      "Example: too [UNK] in this country\n",
      "True Label: trans people hateful, Predicted Label: women hateful\n",
      "\n",
      "Example: when will it finally be clear to people that its in a black persons nature to be an annoying prick\n",
      "True Label: black people hateful, Predicted Label: trans people hateful\n",
      "\n",
      "Example: i [UNK] like an asshole after saying that\n",
      "True Label: no group non-hateful, Predicted Label: women non-hateful\n",
      "\n",
      "Example: that is fitting for [UNK] like you\n",
      "True Label: black people hateful, Predicted Label: disabled people hateful\n",
      "\n",
      "Example: of course the immigrnt was the worst of all these motherfuckers\n",
      "True Label: immigrants hateful, Predicted Label: Muslims hateful\n",
      "\n",
      "Example: i want to end every trans persons life\n",
      "True Label: trans people hateful, Predicted Label: black people hateful\n",
      "\n",
      "Example: my [UNK] bitch is not like other [UNK] she [UNK] going for [UNK]\n",
      "True Label: women non-hateful, Predicted Label: women hateful\n",
      "\n",
      "Example: its in [UNK] nature to be unciviliesd\n",
      "True Label: Muslims hateful, Predicted Label: no group non-hateful\n",
      "\n",
      "Example: too [UNK] in this country\n",
      "True Label: gay people hateful, Predicted Label: women hateful\n",
      "\n",
      "Example: these [UNK] me so much\n",
      "True Label: Muslims hateful, Predicted Label: no group non-hateful\n",
      "\n",
      "Example: how about we cut these [UNK] throats\n",
      "True Label: Muslims hateful, Predicted Label: no group non-hateful\n",
      "\n",
      "Example: her friend said she could go fuck [UNK]\n",
      "True Label: no group non-hateful, Predicted Label: women non-hateful\n",
      "\n",
      "Example: too [UNK] in this country\n",
      "True Label: trans people hateful, Predicted Label: women hateful\n",
      "\n",
      "Example: the bitch [UNK] first place in the [UNK] [UNK] [UNK]\n",
      "True Label: women non-hateful, Predicted Label: women hateful\n",
      "\n",
      "Example: immigrnts are scum\n",
      "True Label: immigrants hateful, Predicted Label: Muslims hateful\n",
      "\n",
      "Example: too many [UNK] in this country\n",
      "True Label: disabled people hateful, Predicted Label: no group non-hateful\n",
      "\n",
      "Example: you are nothing but a [UNK]\n",
      "True Label: disabled people hateful, Predicted Label: no group non-hateful\n",
      "\n",
      "Example: we must not make black people suffer any more than they already are\n",
      "True Label: black people non-hateful, Predicted Label: gay people non-hateful\n",
      "\n",
      "Example: its in [UNK] nature to be uncivilised\n",
      "True Label: Muslims hateful, Predicted Label: no group non-hateful\n",
      "\n",
      "Example: too [UNK] in this country\n",
      "True Label: black people hateful, Predicted Label: women hateful\n",
      "\n",
      "Example: too many [UNK] in this country\n",
      "True Label: gay people hateful, Predicted Label: no group non-hateful\n",
      "\n",
      "Example: too [UNK] in this country\n",
      "True Label: gay people hateful, Predicted Label: women hateful\n",
      "\n",
      "Example: that shit is amazing\n",
      "True Label: no group non-hateful, Predicted Label: Muslims non-hateful\n",
      "\n",
      "Example: i cannot believe [UNK]\n",
      "True Label: black people hateful, Predicted Label: no group non-hateful\n",
      "\n",
      "Example: i will cut their [UNK]\n",
      "True Label: trans people hateful, Predicted Label: no group non-hateful\n",
      "\n",
      "Example: thats a great fucking idea\n",
      "True Label: no group non-hateful, Predicted Label: Muslims non-hateful\n",
      "\n",
      "Example: the [UNK] to [UNK] queer people into [UNK] [UNK] is a [UNK] [UNK]\n",
      "True Label: gay people non-hateful, Predicted Label: gay people hateful\n",
      "\n",
      "Example: typical [UNK]\n",
      "True Label: trans people hateful, Predicted Label: no group non-hateful\n",
      "\n",
      "Example: i cannot believe [UNK]\n",
      "True Label: women hateful, Predicted Label: no group non-hateful\n",
      "\n",
      "Example: typical [UNK]\n",
      "True Label: black people hateful, Predicted Label: no group non-hateful\n",
      "\n",
      "Example: you are nothing but common [UNK]\n",
      "True Label: black people hateful, Predicted Label: disabled people hateful\n",
      "\n",
      "Example: you can hate all you want im not going anywhere proud to be a fag\n",
      "True Label: gay people non-hateful, Predicted Label: no group non-hateful\n",
      "\n",
      "Example: we [UNK] the [UNK] along the [UNK] to [UNK] [UNK] in [UNK]\n",
      "True Label: gay people non-hateful, Predicted Label: no group non-hateful\n",
      "\n"
     ]
    }
   ],
   "source": [
    "import numpy as np\n",
    "\n",
    "# Predict classes with the model\n",
    "predictions = model.predict(X_val_padded)\n",
    "predicted_classes = np.argmax(predictions, axis=1)\n",
    "true_classes = np.argmax(y_val, axis=1)\n",
    "\n",
    "# Identify misclassified examples\n",
    "misclassified_indices = np.where(predicted_classes != true_classes)[0]\n",
    "\n",
    "# Convert sequences back to text\n",
    "misclassified_examples = [\n",
    "    invert_preprocessing([X_val_padded[i]])[0] for i in misclassified_indices\n",
    "]\n",
    "\n",
    "# Print the misclassified examples along with their true and predicted labels\n",
    "for index in misclassified_indices:\n",
    "    example = invert_preprocessing([X_val_padded[index]])[0]\n",
    "    true_label = label_mapping[true_classes[index]]\n",
    "    predicted_label = label_mapping[predicted_classes[index]]\n",
    "    print(\n",
    "        f\"Example: {example}\\nTrue Label: {true_label}, Predicted Label: {predicted_label}\\n\"\n",
    "    )"
   ]
  },
  {
   "cell_type": "markdown",
   "metadata": {},
   "source": [
    "## Frågor:  \n",
    "- Motivera din modell, dess arkitektur och val av relevanta hyperparametrar.  \n",
    "    \n",
    "  Jag började med att försöka göra en transformermodell men det blev för krångligt och den presterade inte så bra så jag gick över till LSTM istället. Transformers kändes dessutom lite overkill eftersom texterna inte var särskilt långa. Hyperparameters vadle jag utifrån en systematisk tuning med kerastuner hyperband.\n",
    "- Har du använt någon databehandling? Varför?  \n",
    "    \n",
    "  Inte så mycket. Jag provade en period med dataaugmentation men jag kom fram till att det inte behövdes då jag fick bra resultat ändå.\n",
    "- Utvärdera modellens prestanda.  \n",
    "    \n",
    "  Modellen presterade bra även om den hade relativt mycket overfitting. Train_accurcay var ofta uppe på 0.99 och val_acc på 0.95. Det är ett bra resultat och de fall där den fick fel är ofta förståeliga och rör sig om meningar med många ord den inte tidigare sett.\n",
    "- Är prestandan bra? Varför/ varför inte?  \n",
    "    \n",
    "    Ja, se ovan\n",
    "- Vad hade du kunnat göra för att förbättra den ytterligare?  \n",
    "    \n",
    "  Använda en pretrained tokenizer för att att slippa problemet med osedda ord. Möjligtvis använda data augmentation för att simulera mer data.\n",
    "  "
   ]
  },
  {
   "cell_type": "markdown",
   "metadata": {},
   "source": [
    "## VG-frågor\n",
    "\n",
    "- Vilken typ av fel gör modellen?  \n",
    "    - Gör den fel på vissa klasser? Gör den fel specifik typ av data? Annat?  \n",
    "  \n",
    "  Framför allt gör modellen fel när den stöter på ord som den inte sett under träningsdatan. Den gör också ibland fel på sentimentet även om den lyckas hitta rätt grupp.\n",
    "    - Kan du göra något för att hantera vanliga fel modellen gör? (Med den data du har, att\n",
    "träna på mer data är inte ett godkänt svar)  \n",
    "  \n",
    "  Att använda en pre-trained tokenizer hade varit en lösning för att slippa problemet med osedda ord. Data Augmentation hade också vart värt att prova för att simulera ett större dataset.\n",
    "- Finns det några begräsningar med modellen?  \n",
    "    - Exempelvis på grund av prestanda eller hur träningsdatan ser ut  \n",
    "    \n",
    "    Träningsdatan är i viss mån utformad för att lura modellen. Genom att systematiskt använda ord som \"fag\", \"hoeing\" och liknande i icke hatiska sammanhang. Modellen hanterar ändå detta okej. Många datapunkter verkar också skapade för att medvetet undvika upptäckt, genom att skriva h4te eller h a t e istället för hate. Modellen kommer också till bukt med detta. Datasetet känns dock relativt konstgjort och det är därför högst oklart hur modellen skulle klara sig \"ute i verkligheten\""
   ]
  }
 ],
 "metadata": {
  "kernelspec": {
   "display_name": "Deep-learning-lab-XbqEFAT_",
   "language": "python",
   "name": "python3"
  },
  "language_info": {
   "codemirror_mode": {
    "name": "ipython",
    "version": 3
   },
   "file_extension": ".py",
   "mimetype": "text/x-python",
   "name": "python",
   "nbconvert_exporter": "python",
   "pygments_lexer": "ipython3",
   "version": "3.10.11"
  }
 },
 "nbformat": 4,
 "nbformat_minor": 2
}
