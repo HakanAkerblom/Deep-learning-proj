{
 "cells": [
  {
   "cell_type": "markdown",
   "metadata": {},
   "source": [
    "# EDA"
   ]
  },
  {
   "cell_type": "code",
   "execution_count": 3,
   "metadata": {},
   "outputs": [
    {
     "name": "stderr",
     "output_type": "stream",
     "text": [
      "C:\\Users\\hakan\\AppData\\Local\\Temp\\ipykernel_9844\\536836739.py:1: DeprecationWarning: \n",
      "Pyarrow will become a required dependency of pandas in the next major release of pandas (pandas 3.0),\n",
      "(to allow more performant data types, such as the Arrow string type, and better interoperability with other libraries)\n",
      "but was not found to be installed on your system.\n",
      "If this would cause problems for you,\n",
      "please provide us feedback at https://github.com/pandas-dev/pandas/issues/54466\n",
      "        \n",
      "  import pandas as pd\n"
     ]
    },
    {
     "name": "stdout",
     "output_type": "stream",
     "text": [
      "WARNING:tensorflow:From c:\\Users\\hakan\\.virtualenvs\\Deep-learning-proj-wFmqu9vX\\lib\\site-packages\\keras\\src\\losses.py:2976: The name tf.losses.sparse_softmax_cross_entropy is deprecated. Please use tf.compat.v1.losses.sparse_softmax_cross_entropy instead.\n",
      "\n",
      "<class 'pandas.core.frame.DataFrame'>\n",
      "RangeIndex: 3901 entries, 0 to 3900\n",
      "Data columns (total 4 columns):\n",
      " #   Column        Non-Null Count  Dtype \n",
      "---  ------        --------------  ----- \n",
      " 0   case_id       3901 non-null   int64 \n",
      " 1   test_case     3901 non-null   object\n",
      " 2   label_gold    3901 non-null   object\n",
      " 3   target_ident  3606 non-null   object\n",
      "dtypes: int64(1), object(3)\n",
      "memory usage: 122.0+ KB\n"
     ]
    },
    {
     "data": {
      "text/plain": [
       "(None,\n",
       "       case_id                                    test_case label_gold  \\\n",
       " 0           1                               I hate women.     hateful   \n",
       " 1           2                        I hate trans people.     hateful   \n",
       " 2           3                          I hate gay people.     hateful   \n",
       " 3           4                        I hate black people.     hateful   \n",
       " 4           5                     I hate disabled people.     hateful   \n",
       " ...       ...                                          ...        ...   \n",
       " 3896     3897       Gay people are all complete 4ssholes.     hateful   \n",
       " 3897     3898     Black people are all complete 4ssholes.     hateful   \n",
       " 3898     3899  Disabled people are all complete 4ssholes.     hateful   \n",
       " 3899     3900          Muslims are all complete 4ssholes.     hateful   \n",
       " 3900     3901       Immigrants are all complete 4ssholes.     hateful   \n",
       " \n",
       "          target_ident  \n",
       " 0               women  \n",
       " 1        trans people  \n",
       " 2          gay people  \n",
       " 3        black people  \n",
       " 4     disabled people  \n",
       " ...               ...  \n",
       " 3896       gay people  \n",
       " 3897     black people  \n",
       " 3898  disabled people  \n",
       " 3899          Muslims  \n",
       " 3900       immigrants  \n",
       " \n",
       " [3901 rows x 4 columns])"
      ]
     },
     "execution_count": 3,
     "metadata": {},
     "output_type": "execute_result"
    }
   ],
   "source": [
    "import pandas as pd\n",
    "import tensorflow as tf\n",
    "from sklearn.model_selection import train_test_split\n",
    "import matplotlib.pyplot as plt\n",
    "\n",
    "# Loading datset\n",
    "data_df = pd.read_csv(\"data/hate/hate-text.csv\")\n",
    "data_df.info(), data_df\n"
   ]
  },
  {
   "cell_type": "code",
   "execution_count": 147,
   "metadata": {},
   "outputs": [
    {
     "data": {
      "text/plain": [
       "target_ident\n",
       "gay people         577\n",
       "women              535\n",
       "disabled people    510\n",
       "Muslims            510\n",
       "black people       504\n",
       "trans people       485\n",
       "immigrants         485\n",
       "Name: count, dtype: int64"
      ]
     },
     "execution_count": 147,
     "metadata": {},
     "output_type": "execute_result"
    }
   ],
   "source": [
    "# Checking value counts for groups\n",
    "data_df[\"target_ident\"].value_counts()"
   ]
  },
  {
   "cell_type": "code",
   "execution_count": 148,
   "metadata": {},
   "outputs": [],
   "source": [
    "# We note that there are rows that are identified as \"non-hateful\" but not against a certain group, we fill those rows with \"no group\"\n",
    "data_df[\"target_ident\"].fillna(value=\"no group\", inplace=True)"
   ]
  },
  {
   "cell_type": "code",
   "execution_count": 149,
   "metadata": {},
   "outputs": [
    {
     "data": {
      "text/plain": [
       "label_gold\n",
       "hateful        2659\n",
       "non-hateful    1242\n",
       "Name: count, dtype: int64"
      ]
     },
     "execution_count": 149,
     "metadata": {},
     "output_type": "execute_result"
    }
   ],
   "source": [
    "# Checking balance of hateful comments\n",
    "data_df[\"label_gold\"].value_counts()"
   ]
  },
  {
   "cell_type": "code",
   "execution_count": 150,
   "metadata": {},
   "outputs": [
    {
     "data": {
      "text/plain": [
       "target_ident\n",
       "women              388\n",
       "gay people         388\n",
       "disabled people    388\n",
       "Muslims            388\n",
       "trans people       369\n",
       "black people       369\n",
       "immigrants         369\n",
       "Name: count, dtype: int64"
      ]
     },
     "execution_count": 150,
     "metadata": {},
     "output_type": "execute_result"
    }
   ],
   "source": [
    "# Checking value counts for hateful comments.\n",
    "data_df[data_df[\"label_gold\"] == \"hateful\"][\"target_ident\"].value_counts()"
   ]
  },
  {
   "cell_type": "code",
   "execution_count": 151,
   "metadata": {},
   "outputs": [
    {
     "data": {
      "text/plain": [
       "target_ident\n",
       "no group           295\n",
       "gay people         189\n",
       "women              147\n",
       "black people       135\n",
       "disabled people    122\n",
       "Muslims            122\n",
       "trans people       116\n",
       "immigrants         116\n",
       "Name: count, dtype: int64"
      ]
     },
     "execution_count": 151,
     "metadata": {},
     "output_type": "execute_result"
    }
   ],
   "source": [
    "# Checking value counts for non-hateful comments.\n",
    "data_df[data_df[\"label_gold\"] == \"non-hateful\"][\"target_ident\"].value_counts()\n",
    "\n",
    "# We note that the data is a little bit unbalanced.\n",
    "# The fact that it is common that non-hateful comments are not directed to a specific group does sound logical though."
   ]
  },
  {
   "cell_type": "code",
   "execution_count": 152,
   "metadata": {},
   "outputs": [],
   "source": [
    "# Concatenating the two labels\n",
    "data_df[\"concat_y\"] = data_df[\"target_ident\"].str.cat(data_df[\"label_gold\"], sep=\" \")"
   ]
  },
  {
   "cell_type": "code",
   "execution_count": 153,
   "metadata": {},
   "outputs": [
    {
     "data": {
      "text/plain": [
       "concat_y\n",
       "women hateful                  388\n",
       "gay people hateful             388\n",
       "disabled people hateful        388\n",
       "Muslims hateful                388\n",
       "trans people hateful           369\n",
       "black people hateful           369\n",
       "immigrants hateful             369\n",
       "no group non-hateful           295\n",
       "gay people non-hateful         189\n",
       "women non-hateful              147\n",
       "black people non-hateful       135\n",
       "disabled people non-hateful    122\n",
       "Muslims non-hateful            122\n",
       "trans people non-hateful       116\n",
       "immigrants non-hateful         116\n",
       "Name: count, dtype: int64"
      ]
     },
     "execution_count": 153,
     "metadata": {},
     "output_type": "execute_result"
    }
   ],
   "source": [
    "# Checking value counts of concatenated labels\n",
    "data_df[\"concat_y\"].value_counts()"
   ]
  },
  {
   "cell_type": "code",
   "execution_count": 154,
   "metadata": {},
   "outputs": [],
   "source": [
    "from sklearn.preprocessing import LabelEncoder\n",
    "\n",
    "# Integer encoding label\n",
    "label_encoder = LabelEncoder()\n",
    "integer_encoded = label_encoder.fit_transform(data_df[\"concat_y\"])\n",
    "\n",
    "# One-hot encoding\n",
    "onehot_encoded = tf.keras.utils.to_categorical(integer_encoded)\n",
    "\n",
    "# Converting to pandas dataframe\n",
    "onehot_df = pd.DataFrame(onehot_encoded)\n",
    "\n",
    "# Creating label map to convert back to human-readable labels\n",
    "label_mapping = {index: label for index, label in enumerate(label_encoder.classes_)}"
   ]
  },
  {
   "cell_type": "code",
   "execution_count": 113,
   "metadata": {},
   "outputs": [],
   "source": [
    "# Creating X and y from dataframes\n",
    "X, y = data_df[\"test_case\"], onehot_df"
   ]
  },
  {
   "cell_type": "code",
   "execution_count": 43,
   "metadata": {},
   "outputs": [
    {
     "data": {
      "text/plain": [
       "((2652,), (781,), (468,), (2652, 15), (781, 15), (468, 15))"
      ]
     },
     "execution_count": 43,
     "metadata": {},
     "output_type": "execute_result"
    }
   ],
   "source": [
    "# Splitting the data into train, val and test\n",
    "X_train, X_val, y_train, y_val = train_test_split(\n",
    "    X, y, test_size=0.2, random_state=42\n",
    ")\n",
    "X_train, X_test, y_train, y_test = train_test_split(\n",
    "    X_train, y_train, test_size=0.15, random_state=42\n",
    ")\n",
    "\n",
    "# Checking shapes\n",
    "X_train.shape, X_val.shape, X_test.shape, y_train.shape, y_val.shape, y_test.shape"
   ]
  },
  {
   "cell_type": "code",
   "execution_count": 132,
   "metadata": {},
   "outputs": [],
   "source": [
    "from keras.layers import TextVectorization\n",
    "from keras.preprocessing.sequence import pad_sequences\n",
    "\n",
    "VOCAB_SIZE = 20000\n",
    "\n",
    "# Create a TextVectorization layer\n",
    "encoder = TextVectorization(max_tokens=VOCAB_SIZE, output_mode=\"int\", pad_to_max_tokens=True)\n",
    "\n",
    "# Creating function for vectorization and padding\n",
    "def preprocess_texts(texts, is_training=False):\n",
    "    global MAX_LENGTH\n",
    "    if is_training:\n",
    "        encoder.adapt(texts)\n",
    "        MAX_LENGTH = max([len(seq) for seq in encoder(texts).numpy()])\n",
    "    \n",
    "    # Vectorize the input texts\n",
    "    texts_vec = encoder(texts).numpy()\n",
    "    \n",
    "    # Padding\n",
    "    texts_padded = pad_sequences(texts_vec, maxlen=MAX_LENGTH, padding=\"post\")\n",
    "    return texts_padded\n",
    "\n",
    "# Processing X_datasets\n",
    "X_train_padded = preprocess_texts(X_train, is_training=True)\n",
    "X_val_padded = preprocess_texts(X_val)\n",
    "X_test_padded = preprocess_texts(X_test)"
   ]
  },
  {
   "cell_type": "code",
   "execution_count": 135,
   "metadata": {},
   "outputs": [
    {
     "name": "stdout",
     "output_type": "stream",
     "text": [
      "Trial 6 Complete [00h 00m 23s]\n",
      "val_accuracy: 0.3636363744735718\n",
      "\n",
      "Best val_accuracy So Far: 0.4955185651779175\n",
      "Total elapsed time: 00h 01m 29s\n"
     ]
    }
   ],
   "source": [
    "import keras_tuner as kt\n",
    "from keras.models import Sequential\n",
    "from keras.layers import Embedding, LSTM, Dense, Dropout\n",
    "from keras.regularizers import L2\n",
    "\n",
    "# Creating the model and tuning the following parameters:\n",
    "# embedding_dim\n",
    "# lstm_units\n",
    "# dense_layers\n",
    "# units_dense\n",
    "# dropout_rate_lstm\n",
    "# droupout_rate_dense\n",
    "# l2_lstm\n",
    "# l2_dense\n",
    "\n",
    "\n",
    "def build_model(hp):\n",
    "    embedding_dim = hp.Int(\"embedding_dim\", min_value=64, step=32, max_value=192)\n",
    "    model = Sequential()\n",
    "    model.add(\n",
    "        Embedding(\n",
    "            input_dim=VOCAB_SIZE, output_dim=embedding_dim, input_length=MAX_LENGTH\n",
    "        )\n",
    "    )\n",
    "\n",
    "    # Creating lstm layer with tuning variables\n",
    "    model.add(\n",
    "        LSTM(\n",
    "            units=hp.Int(\"units_lstm\", min_value=32, max_value=128, step=32),\n",
    "            activation=\"tanh\",\n",
    "            kernel_regularizer=L2(\n",
    "                hp.Float(\"L2_lstm\", min_value=1e-5, max_value=1e-2, sampling=\"LOG\")\n",
    "            ),\n",
    "        )\n",
    "    )\n",
    "    model.add(\n",
    "        Dropout(hp.Float(\"dropout_rate_lstm\", min_value=0.4, step=0.1, max_value=0.7))\n",
    "    )\n",
    "\n",
    "    # Creating dense layer(s) with tuning variables\n",
    "    model.add(\n",
    "        Dense(\n",
    "            units=hp.Int(\"units_dense\", min_value=64, max_value=128, step=32),\n",
    "            activation=\"relu\",\n",
    "            kernel_regularizer=L2(\n",
    "                hp.Float(\"L2_dense\", min_value=1e-5, max_value=1e-2, sampling=\"LOG\")\n",
    "            ),\n",
    "        )\n",
    "    )\n",
    "    model.add(\n",
    "        Dropout(hp.Float(\"dropout_rate_dense\", min_value=0.4, step=0.1, max_value=0.7))\n",
    "    )\n",
    "\n",
    "    model.add(Dense(15, activation=\"softmax\"))  # 15 classes\n",
    "\n",
    "    # Compiling the model\n",
    "    model.compile(\n",
    "        optimizer=\"adam\", loss=\"categorical_crossentropy\", metrics=[\"accuracy\"]\n",
    "    )\n",
    "    return model\n",
    "\n",
    "\n",
    "# Initialize the tuner\n",
    "tuner = kt.Hyperband(\n",
    "    build_model,\n",
    "    objective=\"val_accuracy\",\n",
    "    max_epochs=3,\n",
    "    factor=3,\n",
    "    directory=\"my_dir_8\",\n",
    "    project_name=\"keras_tuning\",\n",
    ")\n",
    "\n",
    "# Starting tuner search\n",
    "tuner.search(X_train_padded, y_train, epochs=3, validation_data=(X_val_padded, y_val))\n",
    "\n",
    "# Extracting best parameters\n",
    "best_hps = tuner.get_best_hyperparameters(num_trials=1)[0]\n",
    "\n",
    "# Building model with best parameters\n",
    "model = build_model(best_hps)"
   ]
  },
  {
   "cell_type": "code",
   "execution_count": 1,
   "metadata": {},
   "outputs": [
    {
     "ename": "SyntaxError",
     "evalue": "f-string: unmatched '(' (680166641.py, line 3)",
     "output_type": "error",
     "traceback": [
      "\u001b[1;36m  Cell \u001b[1;32mIn[1], line 3\u001b[1;36m\u001b[0m\n\u001b[1;33m    print(f\" - Embedding dim: {best_hps.get(\"embedding_dim\")}\")\u001b[0m\n\u001b[1;37m                                             ^\u001b[0m\n\u001b[1;31mSyntaxError\u001b[0m\u001b[1;31m:\u001b[0m f-string: unmatched '('\n"
     ]
    }
   ],
   "source": [
    "# Printing best hyperparameters from tuning\n",
    "print(\"Best Hyperparameters:\")\n",
    "print(f\" - Embedding dim: {best_hps.get('embedding_dim')}\")\n",
    "print(f\" - LSTM units: {best_hps.get('units_lstm')}\")\n",
    "print(f\" - Units in Dense layer: {best_hps.get('units_dense')}\")\n",
    "print(f\" - Dropout rate lstm: {best_hps.get('dropout_rate_lstm')}\")\n",
    "print(f\" - Dropout rate dense: {best_hps.get('dropout_rate_dense')}\")\n",
    "print(f\" - L2 lstm: {best_hps.get('L2_lstm')}\")\n",
    "print(f\" - L2 dense: {best_hps.get('L2_dense')}\")"
   ]
  },
  {
   "cell_type": "code",
   "execution_count": 137,
   "metadata": {},
   "outputs": [],
   "source": [
    "from keras.callbacks import EarlyStopping\n",
    "\n",
    "# Creating early stopping callback\n",
    "early_stop_cb = EarlyStopping(monitor=\"val_loss\", patience=10)"
   ]
  },
  {
   "cell_type": "code",
   "execution_count": 138,
   "metadata": {},
   "outputs": [
    {
     "name": "stdout",
     "output_type": "stream",
     "text": [
      "Epoch 1/100\n"
     ]
    },
    {
     "name": "stdout",
     "output_type": "stream",
     "text": [
      "42/42 [==============================] - 5s 89ms/step - loss: 2.7532 - accuracy: 0.0913 - val_loss: 2.6136 - val_accuracy: 0.1178\n",
      "Epoch 2/100\n",
      "42/42 [==============================] - 3s 82ms/step - loss: 2.4238 - accuracy: 0.1554 - val_loss: 2.1815 - val_accuracy: 0.2254\n",
      "Epoch 3/100\n",
      "42/42 [==============================] - 3s 79ms/step - loss: 2.0572 - accuracy: 0.2398 - val_loss: 1.8710 - val_accuracy: 0.3342\n",
      "Epoch 4/100\n",
      "42/42 [==============================] - 3s 79ms/step - loss: 1.7113 - accuracy: 0.3379 - val_loss: 1.4449 - val_accuracy: 0.4699\n",
      "Epoch 5/100\n",
      "42/42 [==============================] - 3s 81ms/step - loss: 1.3457 - accuracy: 0.4623 - val_loss: 1.2185 - val_accuracy: 0.5595\n",
      "Epoch 6/100\n",
      "42/42 [==============================] - 3s 82ms/step - loss: 1.0889 - accuracy: 0.5694 - val_loss: 1.0735 - val_accuracy: 0.6082\n",
      "Epoch 7/100\n",
      "42/42 [==============================] - 3s 81ms/step - loss: 0.9184 - accuracy: 0.6410 - val_loss: 0.8521 - val_accuracy: 0.6748\n",
      "Epoch 8/100\n",
      "42/42 [==============================] - 4s 84ms/step - loss: 0.7505 - accuracy: 0.7078 - val_loss: 0.8356 - val_accuracy: 0.7414\n",
      "Epoch 9/100\n",
      "42/42 [==============================] - 3s 82ms/step - loss: 0.6007 - accuracy: 0.7606 - val_loss: 0.7737 - val_accuracy: 0.7170\n",
      "Epoch 10/100\n",
      "42/42 [==============================] - 3s 82ms/step - loss: 0.5723 - accuracy: 0.7821 - val_loss: 0.7471 - val_accuracy: 0.7311\n",
      "Epoch 11/100\n",
      "42/42 [==============================] - 4s 90ms/step - loss: 0.4536 - accuracy: 0.8277 - val_loss: 0.6606 - val_accuracy: 0.8348\n",
      "Epoch 12/100\n",
      "42/42 [==============================] - 4s 85ms/step - loss: 0.3741 - accuracy: 0.8903 - val_loss: 0.5772 - val_accuracy: 0.8630\n",
      "Epoch 13/100\n",
      "42/42 [==============================] - 3s 83ms/step - loss: 0.3327 - accuracy: 0.9121 - val_loss: 0.5144 - val_accuracy: 0.8950\n",
      "Epoch 14/100\n",
      "42/42 [==============================] - 4s 86ms/step - loss: 0.1919 - accuracy: 0.9657 - val_loss: 0.5105 - val_accuracy: 0.9181\n",
      "Epoch 15/100\n",
      "42/42 [==============================] - 4s 84ms/step - loss: 0.1999 - accuracy: 0.9548 - val_loss: 0.5484 - val_accuracy: 0.9129\n",
      "Epoch 16/100\n",
      "42/42 [==============================] - 4s 84ms/step - loss: 0.1913 - accuracy: 0.9664 - val_loss: 0.6520 - val_accuracy: 0.8924\n",
      "Epoch 17/100\n",
      "42/42 [==============================] - 4s 85ms/step - loss: 0.2375 - accuracy: 0.9476 - val_loss: 0.4652 - val_accuracy: 0.9181\n",
      "Epoch 18/100\n",
      "42/42 [==============================] - 3s 81ms/step - loss: 0.1859 - accuracy: 0.9630 - val_loss: 0.5706 - val_accuracy: 0.9014\n",
      "Epoch 19/100\n",
      "42/42 [==============================] - 4s 86ms/step - loss: 0.1583 - accuracy: 0.9736 - val_loss: 0.4997 - val_accuracy: 0.9232\n",
      "Epoch 20/100\n",
      "42/42 [==============================] - 3s 83ms/step - loss: 0.1327 - accuracy: 0.9770 - val_loss: 0.4354 - val_accuracy: 0.9296\n",
      "Epoch 21/100\n",
      "42/42 [==============================] - 3s 83ms/step - loss: 0.1288 - accuracy: 0.9819 - val_loss: 0.6611 - val_accuracy: 0.9065\n",
      "Epoch 22/100\n",
      "42/42 [==============================] - 3s 83ms/step - loss: 0.1452 - accuracy: 0.9747 - val_loss: 0.5447 - val_accuracy: 0.9193\n",
      "Epoch 23/100\n",
      "42/42 [==============================] - 3s 82ms/step - loss: 0.1384 - accuracy: 0.9766 - val_loss: 0.6360 - val_accuracy: 0.9091\n",
      "Epoch 24/100\n",
      "42/42 [==============================] - 4s 83ms/step - loss: 0.1297 - accuracy: 0.9778 - val_loss: 0.4781 - val_accuracy: 0.9270\n",
      "Epoch 25/100\n",
      "42/42 [==============================] - 4s 84ms/step - loss: 0.1020 - accuracy: 0.9857 - val_loss: 0.4637 - val_accuracy: 0.9270\n",
      "Epoch 26/100\n",
      "42/42 [==============================] - 4s 85ms/step - loss: 0.1263 - accuracy: 0.9819 - val_loss: 0.6355 - val_accuracy: 0.9065\n",
      "Epoch 27/100\n",
      "42/42 [==============================] - 4s 88ms/step - loss: 0.1410 - accuracy: 0.9762 - val_loss: 0.5512 - val_accuracy: 0.9117\n",
      "Epoch 28/100\n",
      "42/42 [==============================] - 4s 87ms/step - loss: 0.1441 - accuracy: 0.9729 - val_loss: 0.6378 - val_accuracy: 0.8912\n",
      "Epoch 29/100\n",
      "42/42 [==============================] - 3s 83ms/step - loss: 0.2020 - accuracy: 0.9615 - val_loss: 0.5564 - val_accuracy: 0.9206\n",
      "Epoch 30/100\n",
      "42/42 [==============================] - 3s 81ms/step - loss: 0.2324 - accuracy: 0.9593 - val_loss: 0.6665 - val_accuracy: 0.9168\n"
     ]
    }
   ],
   "source": [
    "# Training the model\n",
    "EPOCHS = 100\n",
    "BATCH_SIZE = 64\n",
    "\n",
    "history = model.fit(\n",
    "    X_train_padded,\n",
    "    y_train,\n",
    "    epochs=EPOCHS,\n",
    "    batch_size=BATCH_SIZE,\n",
    "    validation_data=(X_val_padded, y_val),\n",
    "    callbacks=(early_stop_cb)\n",
    ")"
   ]
  },
  {
   "cell_type": "code",
   "execution_count": 139,
   "metadata": {},
   "outputs": [
    {
     "name": "stderr",
     "output_type": "stream",
     "text": [
      "C:\\Users\\hakan\\AppData\\Local\\Temp\\ipykernel_3420\\3371314899.py:12: UserWarning: color is redundantly defined by the 'color' keyword argument and the fmt string \"b\" (-> color=(0.0, 0.0, 1.0, 1)). The keyword argument will take precedence.\n",
      "  plt.plot(epochs, val_accuracy, 'b', label='Validation accuracy', color=\"orange\")\n"
     ]
    },
    {
     "data": {
      "image/png": "[encoded data removed]",
      "text/plain": [
       "<Figure size 1000x600 with 1 Axes>"
      ]
     },
     "metadata": {},
     "output_type": "display_data"
    }
   ],
   "source": [
    "import matplotlib.pyplot as plt\n",
    "\n",
    "\n",
    "# Extracting accuracy and validation accuracy\n",
    "accuracy = history.history[\"accuracy\"]\n",
    "val_accuracy = history.history[\"val_accuracy\"]\n",
    "epochs = range(1, len(accuracy) + 1)\n",
    "\n",
    "# Plotting the accuracy graph\n",
    "plt.figure(figsize=(10, 6))\n",
    "plt.plot(epochs, accuracy, \"b\", label=\"Training accuracy\")\n",
    "plt.plot(epochs, val_accuracy, \"b\", label=\"Validation accuracy\", color=\"orange\")\n",
    "plt.axhline(y=1, color=\"teal\", linestyle=\"--\")\n",
    "plt.title(\"Training and Validation Accuracy\")\n",
    "plt.xlabel(\"Epochs\")\n",
    "plt.ylabel(\"Accuracy\")\n",
    "plt.legend()\n",
    "\n",
    "plt.show()"
   ]
  },
  {
   "cell_type": "code",
   "execution_count": 140,
   "metadata": {},
   "outputs": [
    {
     "name": "stdout",
     "output_type": "stream",
     "text": [
      "15/15 [==============================] - 0s 6ms/step - loss: 0.6042 - accuracy: 0.9295\n"
     ]
    },
    {
     "data": {
      "text/plain": [
       "[0.6041830778121948, 0.9294871687889099]"
      ]
     },
     "execution_count": 140,
     "metadata": {},
     "output_type": "execute_result"
    }
   ],
   "source": [
    "# Evaluating model\n",
    "model.evaluate(X_test_padded, y_test)"
   ]
  },
  {
   "cell_type": "code",
   "execution_count": 141,
   "metadata": {},
   "outputs": [],
   "source": [
    "# Creating inverse to preprocessing to make texts human readable\n",
    "def invert_preprocessing(encoded_texts):\n",
    "    vocab = encoder.get_vocabulary()\n",
    "    word_index = dict(zip(range(len(vocab)), vocab))\n",
    "\n",
    "    def decode_sequence(seq):\n",
    "        return \" \".join(\n",
    "            [word_index.get(i, \"\") for i in seq if i != 0]\n",
    "        )  # Exclude padding (index 0)\n",
    "\n",
    "    return [decode_sequence(seq) for seq in encoded_texts]\n"
   ]
  },
  {
   "cell_type": "code",
   "execution_count": 2,
   "metadata": {},
   "outputs": [
    {
     "ename": "NameError",
     "evalue": "name 'model' is not defined",
     "output_type": "error",
     "traceback": [
      "\u001b[1;31m---------------------------------------------------------------------------\u001b[0m",
      "\u001b[1;31mNameError\u001b[0m                                 Traceback (most recent call last)",
      "Cell \u001b[1;32mIn[2], line 4\u001b[0m\n\u001b[0;32m      1\u001b[0m \u001b[38;5;28;01mimport\u001b[39;00m \u001b[38;5;21;01mnumpy\u001b[39;00m \u001b[38;5;28;01mas\u001b[39;00m \u001b[38;5;21;01mnp\u001b[39;00m\n\u001b[0;32m      3\u001b[0m \u001b[38;5;66;03m# Predict classes with the model\u001b[39;00m\n\u001b[1;32m----> 4\u001b[0m predictions \u001b[38;5;241m=\u001b[39m \u001b[43mmodel\u001b[49m\u001b[38;5;241m.\u001b[39mpredict(X_val_padded)\n\u001b[0;32m      5\u001b[0m predicted_classes \u001b[38;5;241m=\u001b[39m np\u001b[38;5;241m.\u001b[39margmax(predictions, axis\u001b[38;5;241m=\u001b[39m\u001b[38;5;241m1\u001b[39m)\n\u001b[0;32m      6\u001b[0m true_classes \u001b[38;5;241m=\u001b[39m np\u001b[38;5;241m.\u001b[39margmax(y_val, axis\u001b[38;5;241m=\u001b[39m\u001b[38;5;241m1\u001b[39m)\n",
      "\u001b[1;31mNameError\u001b[0m: name 'model' is not defined"
     ]
    }
   ],
   "source": [
    "import numpy as np\n",
    "\n",
    "# Predict classes with the model\n",
    "predictions = model.predict(X_val_padded)\n",
    "predicted_classes = np.argmax(predictions, axis=1)\n",
    "true_classes = np.argmax(y_val, axis=1)\n",
    "\n",
    "# Identify misclassified examples\n",
    "misclassified_indices = np.where(predicted_classes != true_classes)[0]\n",
    "\n",
    "# Convert sequences back to text\n",
    "misclassified_examples = [\n",
    "    invert_preprocessing([X_val_padded[i]])[0] for i in misclassified_indices\n",
    "]\n",
    "\n",
    "# Print or store the misclassified examples along with their true and predicted labels\n",
    "for index in misclassified_indices:\n",
    "    example = invert_preprocessing([X_val_padded[index]])[0]\n",
    "    true_label = label_mapping[true_classes[index]]\n",
    "    predicted_label = label_mapping[predicted_classes[index]]\n",
    "    print(\n",
    "        f\"Example: {example}\\nTrue Label: {true_label}, Predicted Label: {predicted_label}\\n\"\n",
    "    )"
   ]
  },
  {
   "cell_type": "markdown",
   "metadata": {},
   "source": [
    "## Frågor:  \n",
    "- Motivera din modell, dess arkitektur och val av relevanta hyperparametrar.  \n",
    "    \n",
    "  Jag började med att försöka göra en transformermodell men det blev för krångligt och den presterade inte så bra så jag gick över till LSTM istället. Transformers kändes dessutom lite overkill eftersom texterna inte var särskilt långa. Hyperparameters vadle jag utifrån en systematisk tuning med kerastuner hyperband.\n",
    "- Har du använt någon databehandling? Varför?  \n",
    "    \n",
    "  Inte så mycket. Jag provade en period med dataaugmentation men jag kom fram till att det inte behövdes då jag fick bra resultat ändå.\n",
    "- Utvärdera modellens prestanda.  \n",
    "    \n",
    "  Modellen presterade bra även om den hade relativt mycket overfitting. Train_accurcay var ofta uppe på 0.99 och val_acc på 0.95. Det är ett bra resultat och de fall där den fick fel är ofta förståeliga och rör sig om meningar med många ord den inte tidigare sett.\n",
    "- Är prestandan bra? Varför/ varför inte?  \n",
    "    \n",
    "    Ja, se ovan\n",
    "- Vad hade du kunnat göra för att förbättra den ytterligare?  \n",
    "    \n",
    "  Använda en pretrained tokenizer för att att slippa problemet med osedda ord. Möjligtvis använda data augmentation för att simulera mer data.\n",
    "  "
   ]
  },
  {
   "cell_type": "markdown",
   "metadata": {},
   "source": [
    "## VG-frågor\n",
    "\n",
    "- Vilken typ av fel gör modellen?  \n",
    "    - Gör den fel på vissa klasser? Gör den fel specifik typ av data? Annat?  \n",
    "  \n",
    "  Framför allt gör modellen fel när den stöter på ord som den inte sett under träningsdatan. Den gör också ibland fel på sentimentet även om den lyckas hitta rätt grupp.\n",
    "    - Kan du göra något för att hantera vanliga fel modellen gör? (Med den data du har, att\n",
    "träna på mer data är inte ett godkänt svar)  \n",
    "  \n",
    "  Att använda en pre-trained tokenizer hade varit en lösning för att slippa problemet med osedda ord. Data Augmentation hade också vart värt att prova för att simulera ett större dataset.\n",
    "- Finns det några begräsningar med modellen?  \n",
    "    - Exempelvis på grund av prestanda eller hur träningsdatan ser ut  \n",
    "    \n",
    "    Träningsdatan är i viss mån utformad för att lura modellen. Genom att systematiskt använda ord som \"fag\", \"hoeing\" och liknande i icke hatiska sammanhang. Modellen hanterar ändå detta okej. Många datapunkter verkar också skapade för att medvetet undvika upptäckt, genom att skriva h4te eller h a t e istället för hate. Modellen kommer också till bukt med detta. Datasetet känns dock relativt konstgjort och det är därför högst oklart hur modellen skulle klara sig \"ute i verkligheten\""
   ]
  },
  {
   "cell_type": "markdown",
   "metadata": {},
   "source": []
  }
 ],
 "metadata": {
  "kernelspec": {
   "display_name": "Deep-learning-lab-XbqEFAT_",
   "language": "python",
   "name": "python3"
  },
  "language_info": {
   "codemirror_mode": {
    "name": "ipython",
    "version": 3
   },
   "file_extension": ".py",
   "mimetype": "text/x-python",
   "name": "python",
   "nbconvert_exporter": "python",
   "pygments_lexer": "ipython3",
   "version": "3.10.11"
  }
 },
 "nbformat": 4,
 "nbformat_minor": 2
}
